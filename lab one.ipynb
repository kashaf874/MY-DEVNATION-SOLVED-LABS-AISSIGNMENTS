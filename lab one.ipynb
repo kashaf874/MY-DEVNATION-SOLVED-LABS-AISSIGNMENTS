{
 "cells": [
  {
   "cell_type": "markdown",
   "id": "6e9ac1c3",
   "metadata": {},
   "source": [
    "# lab Assignment one"
   ]
  },
  {
   "cell_type": "markdown",
   "id": "d76d5fbb",
   "metadata": {},
   "source": [
    "# Q1.Write a function get_date(int) that takes a param number_of_days and if the number is \n",
    "odd return (current_date + number_of_days) else return (current_date - number_of_days)"
   ]
  },
  {
   "cell_type": "code",
   "execution_count": 1,
   "id": "8411b6b1",
   "metadata": {},
   "outputs": [
    {
     "name": "stdout",
     "output_type": "stream",
     "text": [
      "2021-07-09 13:18:45.480273\n"
     ]
    }
   ],
   "source": [
    "import datetime as dt\n",
    "from datetime import datetime, timedelta\n",
    "import time\n",
    "\n",
    "\n",
    "current_day = dt.datetime.now()\n",
    "today_date = dt.timedelta()\n",
    "\n",
    "\n",
    "no_of_days = 30\n",
    "\n",
    "def get_date(no_of_days):\n",
    "    \n",
    "    day = no_of_days % 2\n",
    "    if day != 0:\n",
    "        return (current_day + today_date )\n",
    "    else:\n",
    "        return (current_day - today_date)\n",
    "\n",
    "print(get_date(9))"
   ]
  },
  {
   "cell_type": "markdown",
   "id": "b1549be2",
   "metadata": {},
   "source": [
    "# Q2.Write a function stringify using map that takes a list of strings and a function and \n",
    "converts each string into separate string\n",
    "Input =['devnation', 'data science', 'requires', 'dedication']\n",
    "\n",
    "Output =[[‘d’,’e’,’v’,’n’,’a’,’t’,’i’,’o’,’n’],[‘d’,’a’,’t’,’a’,’s’,’i’,’e’,’n’,’c’,’e’],\n",
    "[‘r’,’e’,’q’,’u’,’i’,’r’,’e’,’s’],[‘d’,’e’,’d’,’i’,’c’,’a’,’t’,’i’,’o’,’n’]]"
   ]
  },
  {
   "cell_type": "code",
   "execution_count": 21,
   "id": "a04d95bb",
   "metadata": {},
   "outputs": [],
   "source": [
    "def stringify(mylist):\n",
    "    \n",
    "    l = list(map(list,mylist))\n",
    "    return l\n",
    "\n",
    "stringify(['devnation', 'data science', 'requires', 'dedication'])\n"
   ]
  },
  {
   "cell_type": "markdown",
   "id": "a5eb11ac",
   "metadata": {},
   "source": [
    "# Q3. Write a function string_case(list) using map that takes list of characters and return \n",
    "tuples of tuple with containing lower and upper case of that character’s list\n",
    "Final Output must contains unique tuples\n",
    "Sample = ['f', 'b', 'a',’a’]\n",
    "Result = ((‘F’,’F’),(‘B’,’b’),(‘A’,’a’))"
   ]
  },
  {
   "cell_type": "code",
   "execution_count": 29,
   "id": "0f61a70d",
   "metadata": {},
   "outputs": [],
   "source": [
    "def String_case(klist):\n",
    "\n",
    "    l =  ['f', 'b', 'a'] \n",
    "    K = list(map(list,klist))\n",
    "    return k\n",
    "    l = [element.lower() for element in l]"
   ]
  },
  {
   "cell_type": "code",
   "execution_count": null,
   "id": "5712591b",
   "metadata": {},
   "outputs": [],
   "source": []
  },
  {
   "cell_type": "markdown",
   "id": "022f8595",
   "metadata": {},
   "source": [
    "# Write a function to get data from a dictionary.\n",
    "Let’s say this is the dictionary and I want you to get country name so we will pass list of keys \n",
    "like this. [‘address’, ‘addressCountry’, ‘name’], function should [return “New Zealand”. Your \n",
    "function should be generaic, we can pass any dictionary and any list of keys according to \n",
    "that and if the data doesn’t exist then return default value we pass when we call the \n",
    "function."
   ]
  },
  {
   "cell_type": "code",
   "execution_count": 16,
   "id": "970fd2eb",
   "metadata": {},
   "outputs": [],
   "source": [
    "##get_data\n",
    "## data from dictionary\n",
    "##get country name list like  [‘address’, ‘addressCountry’, ‘name’] \n",
    "###we should pass any list of keys\n",
    "### if data = empty \n",
    "\n",
    "\n",
    "##return = New Zealand \n",
    "### return default"
   ]
  },
  {
   "cell_type": "code",
   "execution_count": 84,
   "id": "52ff6864",
   "metadata": {},
   "outputs": [],
   "source": [
    "Dict = {\"@context\":\"http:\\u002F\\u002Fschema.org\",\"@type\":\"LodgingBusiness\",\"name\":\"SeabreezeHolidayPark\",\"url\":\"\\u002FHotel_Review-g4475485-d2207450-Reviews-Seabreeze_Holiday_Park-Whenuakite_Coromandel_Peninsula_Waikato_Region_North_Island.html\",\"image\":\"https:\\\n",
    "u002F\\u002Fmedia-cdn.tripadvisor.com\\u002Fmedia\\u002Fphoto-s\\u002F09\\u002F66\\u002Fa0\\u002F92\\u002Fseabreeze-holiday-park.jpg\",\"priceRange\":\"$(Based on Average Nightly Rates for a Standard Room from ourPartners)\",\"aggregateRating\":{\"@type\":\"AggregateRating\",\"ratingValue\":\"3.5\",\"reviewCount\":\"152\"},\"address\":{\"@type\":\"PostalAddress\",\"streetAddress\":\"1043 Tairua Whitianga RoadSh25\",\"addressLocality\":\"Whenuakite\",\"addressRegion\":\"NorthIsland\",\"postalCode\":\"3591\",\"addressCountry\":{\"@type\":\"Country\",\"name\":\"NewZealand\"}}}\n"
   ]
  },
  {
   "cell_type": "code",
   "execution_count": 94,
   "id": "9f07ddd3",
   "metadata": {},
   "outputs": [],
   "source": [
    "def get_data(dic,list_of_keys):\n",
    "    for i in list_of_keys:\n",
    "            if i in dic:\n",
    "                dic = dic[i]\n",
    "            else:\n",
    "                return \"not found\"\n",
    "            return dic"
   ]
  },
  {
   "cell_type": "code",
   "execution_count": 110,
   "id": "a11a181b",
   "metadata": {
    "scrolled": true
   },
   "outputs": [],
   "source": [
    "new_fun = (Dict,[\"address\",\"addressCountry\", \"name\"])"
   ]
  },
  {
   "cell_type": "code",
   "execution_count": 111,
   "id": "e64a79b4",
   "metadata": {},
   "outputs": [
    {
     "data": {
      "text/plain": [
       "({'@context': 'http://schema.org',\n",
       "  '@type': 'LodgingBusiness',\n",
       "  'name': 'SeabreezeHolidayPark',\n",
       "  'url': '/Hotel_Review-g4475485-d2207450-Reviews-Seabreeze_Holiday_Park-Whenuakite_Coromandel_Peninsula_Waikato_Region_North_Island.html',\n",
       "  'image': 'https:u002F/media-cdn.tripadvisor.com/media/photo-s/09/66/a0/92/seabreeze-holiday-park.jpg',\n",
       "  'priceRange': '$(Based on Average Nightly Rates for a Standard Room from ourPartners)',\n",
       "  'aggregateRating': {'@type': 'AggregateRating',\n",
       "   'ratingValue': '3.5',\n",
       "   'reviewCount': '152'},\n",
       "  'address': {'@type': 'PostalAddress',\n",
       "   'streetAddress': '1043 Tairua Whitianga RoadSh25',\n",
       "   'addressLocality': 'Whenuakite',\n",
       "   'addressRegion': 'NorthIsland',\n",
       "   'postalCode': '3591',\n",
       "   'addressCountry': {'@type': 'Country', 'name': 'NewZealand'}}},\n",
       " ['address', 'addressCountry', 'name'])"
      ]
     },
     "execution_count": 111,
     "metadata": {},
     "output_type": "execute_result"
    }
   ],
   "source": [
    "new_fun\n"
   ]
  },
  {
   "cell_type": "code",
   "execution_count": 112,
   "id": "32b8f0ac",
   "metadata": {},
   "outputs": [],
   "source": [
    "Dict = {\"@context\":\"http:\\u002F\\u002Fschema.org\",\"@type\":\"LodgingBusiness\",\"name\":\"SeabreezeHolidayPark\",\"url\":\"\\u002FHotel_Review-g4475485-d2207450-Reviews-Seabreeze_Holiday_Park-Whenuakite_Coromandel_Peninsula_Waikato_Region_North_Island.html\",\"image\":\"https:\\\n",
    "u002F\\u002Fmedia-cdn.tripadvisor.com\\u002Fmedia\\u002Fphoto-s\\u002F09\\u002F66\\u002Fa0\\u002F92\\u002Fseabreeze-holiday-park.jpg\",\"priceRange\":\"$(Based on Average Nightly Rates for a Standard Room from ourPartners)\",\"aggregateRating\":{\"@type\":\"AggregateRating\",\"ratingValue\":\"3.5\",\"reviewCount\":\"152\"},\"address\":{\"@type\":\"PostalAddress\",\"streetAddress\":\"1043 Tairua Whitianga RoadSh25\",\"addressLocality\":\"Whenuakite\",\"addressRegion\":\"NorthIsland\",\"postalCode\":\"3591\",\"addressCountry\":{\"@type\":\"Country\",\"name\":\"NewZealand\"}}}\n"
   ]
  },
  {
   "cell_type": "code",
   "execution_count": 104,
   "id": "c2c233a9",
   "metadata": {},
   "outputs": [],
   "source": [
    "grades = {'John':'A', 'Emily':'A+', 'Betty':'B', 'Mike':'C', 'Ashley':'A'}"
   ]
  },
  {
   "cell_type": "code",
   "execution_count": 105,
   "id": "cdfa9c16",
   "metadata": {},
   "outputs": [],
   "source": [
    "def my_data(dic,list_of_keys):\n",
    "    for i in list_of_keys:\n",
    "            if i in dic:\n",
    "                dic = dic[i]\n",
    "            else:\n",
    "                return \"not found\"\n",
    "            return dic"
   ]
  },
  {
   "cell_type": "code",
   "execution_count": 108,
   "id": "cccf2d62",
   "metadata": {},
   "outputs": [],
   "source": [
    "new_dic = (grades,['A','A+','C'])"
   ]
  },
  {
   "cell_type": "code",
   "execution_count": 109,
   "id": "a77ae9fd",
   "metadata": {},
   "outputs": [
    {
     "data": {
      "text/plain": [
       "({'John': 'A', 'Emily': 'A+', 'Betty': 'B', 'Mike': 'C', 'Ashley': 'A'},\n",
       " ['A', 'A+', 'C'])"
      ]
     },
     "execution_count": 109,
     "metadata": {},
     "output_type": "execute_result"
    }
   ],
   "source": [
    "new_dic"
   ]
  },
  {
   "cell_type": "code",
   "execution_count": null,
   "id": "4c4b94f4",
   "metadata": {},
   "outputs": [],
   "source": []
  }
 ],
 "metadata": {
  "kernelspec": {
   "display_name": "Python 3",
   "language": "python",
   "name": "python3"
  },
  "language_info": {
   "codemirror_mode": {
    "name": "ipython",
    "version": 3
   },
   "file_extension": ".py",
   "mimetype": "text/x-python",
   "name": "python",
   "nbconvert_exporter": "python",
   "pygments_lexer": "ipython3",
   "version": "3.8.8"
  }
 },
 "nbformat": 4,
 "nbformat_minor": 5
}
