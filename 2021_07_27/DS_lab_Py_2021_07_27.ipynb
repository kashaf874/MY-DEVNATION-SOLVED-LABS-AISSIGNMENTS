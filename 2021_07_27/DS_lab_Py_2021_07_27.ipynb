{
 "cells": [
  {
   "cell_type": "markdown",
   "id": "53616d45",
   "metadata": {},
   "source": [
    "# Create a class MyType with the following Magic Function\n",
    "\n",
    "1-con. is  a and b\n",
    "2-new have if condition\n",
    "3-creat objects ____\n",
    "4-the value of `a` >500 then don’t\n",
    "create an object\n",
    "5- __add__ creat this\n",
    "6- _sub__ creat this\n",
    "7- add greater fun __gt__\n",
    "8- lastly add __lt__"
   ]
  },
  {
   "cell_type": "code",
   "execution_count": 61,
   "id": "18b6fd8e",
   "metadata": {},
   "outputs": [],
   "source": [
    "class mytype:\n",
    "    def __new__(cls,a,b):\n",
    "        if a <= 500:\n",
    "            inst = object.__new__(cls)\n",
    "            return inst\n",
    "        \n",
    "    def __init__(self,a,b):\n",
    "        self.a = a\n",
    "        self.b = b\n",
    "        \n",
    "    def __add__(self, devnation):\n",
    "        return (self.a + devnation.a) , (self.b + devnation.b)\n",
    "    \n",
    "    def __sub__(self , kashaf):\n",
    "        return (self.a - kashaf.a) , (self.b - kashaf.b)\n",
    "    \n",
    "    def __gt__(self, obj_1):\n",
    "        if  (self.a > obj_1.a) & (self.b > obj_1.b):\n",
    "            return True\n",
    "        else:\n",
    "            return False\n",
    "\n",
    "    \n",
    "    def __lt__(self, obj_1):\n",
    "         if  (self.a < obj_1.a) & (self.b < obj_1.b):\n",
    "            return True\n",
    "         else:\n",
    "            return False\n",
    "    \n",
    "    \n",
    "        \n",
    "    \n",
    "    "
   ]
  },
  {
   "cell_type": "code",
   "execution_count": 62,
   "id": "9dd08bed",
   "metadata": {},
   "outputs": [],
   "source": [
    "T1 = mytype(1,2)\n",
    "T2 = mytype(2,3)"
   ]
  },
  {
   "cell_type": "code",
   "execution_count": 63,
   "id": "a32d61ad",
   "metadata": {},
   "outputs": [
    {
     "data": {
      "text/plain": [
       "(3, 5)"
      ]
     },
     "execution_count": 63,
     "metadata": {},
     "output_type": "execute_result"
    }
   ],
   "source": [
    "mytype.__add__(T1,T2)"
   ]
  },
  {
   "cell_type": "code",
   "execution_count": 64,
   "id": "d815f50e",
   "metadata": {},
   "outputs": [
    {
     "data": {
      "text/plain": [
       "(-1, -1)"
      ]
     },
     "execution_count": 64,
     "metadata": {},
     "output_type": "execute_result"
    }
   ],
   "source": [
    "mytype.__sub__(T1,T2)"
   ]
  },
  {
   "cell_type": "code",
   "execution_count": 65,
   "id": "8f8fd198",
   "metadata": {},
   "outputs": [
    {
     "data": {
      "text/plain": [
       "True"
      ]
     },
     "execution_count": 65,
     "metadata": {},
     "output_type": "execute_result"
    }
   ],
   "source": [
    "mytype.__lt__(T1,T2)"
   ]
  },
  {
   "cell_type": "code",
   "execution_count": 66,
   "id": "187e9116",
   "metadata": {},
   "outputs": [
    {
     "data": {
      "text/plain": [
       "False"
      ]
     },
     "execution_count": 66,
     "metadata": {},
     "output_type": "execute_result"
    }
   ],
   "source": [
    "mytype.__gt__(T1,T2)"
   ]
  },
  {
   "cell_type": "code",
   "execution_count": null,
   "id": "bd8dc700",
   "metadata": {},
   "outputs": [],
   "source": []
  }
 ],
 "metadata": {
  "kernelspec": {
   "display_name": "Python 3",
   "language": "python",
   "name": "python3"
  },
  "language_info": {
   "codemirror_mode": {
    "name": "ipython",
    "version": 3
   },
   "file_extension": ".py",
   "mimetype": "text/x-python",
   "name": "python",
   "nbconvert_exporter": "python",
   "pygments_lexer": "ipython3",
   "version": "3.8.8"
  }
 },
 "nbformat": 4,
 "nbformat_minor": 5
}
