{
 "cells": [
  {
   "cell_type": "code",
   "execution_count": 2,
   "id": "d54edd3f",
   "metadata": {},
   "outputs": [],
   "source": [
    "class Students:\n",
    "    def __init__(self,name,batch_no,address,course=[list],course_score=[]):\n",
    "        self.name = name\n",
    "        self.batch_no = batch_no\n",
    "        self.address = address\n",
    "        self.course = course\n",
    "        self.course_score = course_score\n",
    "        \n",
    "    def set_name(self,name):\n",
    "        self.name = name\n",
    "    \n",
    "    def set_batch_no(self,batch_no):\n",
    "        self.batch_no = batch_no\n",
    "        \n",
    "    def set_address(self,address):\n",
    "        self.address = address\n",
    "        \n",
    "    def set_course(self,course):\n",
    "        self.course = course\n",
    "        \n",
    "    def set_score(self,courses,score):\n",
    "        \n",
    "        if courses in self.courses:\n",
    "            \n",
    "            self.courses_score.append({\"course\":courses,\"marks\":courses_score})\n",
    "        else:\n",
    "            print(\"not found\")\n",
    "        \n",
    "    def get_name(self):\n",
    "        return self.name\n",
    "    \n",
    "    def get_batch_no(self):\n",
    "        return self.batch_no\n",
    "    \n",
    "    def get_address(self):\n",
    "        return self.address\n",
    "    \n",
    "    def get_course(self):\n",
    "        return self.course\n",
    "    \n",
    "    def get_course_score(self):\n",
    "        return self.course_score\n",
    "    \n",
    "        \n",
    "obj = Students(\"Kashaf Naz\" ,\"2 DS\",\" pak \", \"Ds\", )"
   ]
  },
  {
   "cell_type": "code",
   "execution_count": 3,
   "id": "218400c1",
   "metadata": {},
   "outputs": [],
   "source": [
    "list = [{\" data science marks\":30} ,{\"course:python, marks\":30} ]"
   ]
  },
  {
   "cell_type": "code",
   "execution_count": 4,
   "id": "5320217f",
   "metadata": {},
   "outputs": [],
   "source": [
    "ds = 30\n",
    "py = 30"
   ]
  },
  {
   "cell_type": "code",
   "execution_count": 5,
   "id": "d052de96",
   "metadata": {},
   "outputs": [
    {
     "data": {
      "text/plain": [
       "'Kashaf Naz'"
      ]
     },
     "execution_count": 5,
     "metadata": {},
     "output_type": "execute_result"
    }
   ],
   "source": [
    "obj.get_name()"
   ]
  },
  {
   "cell_type": "code",
   "execution_count": 6,
   "id": "d99d7695",
   "metadata": {},
   "outputs": [
    {
     "data": {
      "text/plain": [
       "'Ds'"
      ]
     },
     "execution_count": 6,
     "metadata": {},
     "output_type": "execute_result"
    }
   ],
   "source": [
    "obj.get_course()"
   ]
  },
  {
   "cell_type": "code",
   "execution_count": 101,
   "id": "5d98a222",
   "metadata": {},
   "outputs": [
    {
     "data": {
      "text/plain": [
       "[]"
      ]
     },
     "execution_count": 101,
     "metadata": {},
     "output_type": "execute_result"
    }
   ],
   "source": [
    "obj.get_course_score()"
   ]
  },
  {
   "cell_type": "code",
   "execution_count": 102,
   "id": "c371344c",
   "metadata": {},
   "outputs": [],
   "source": []
  },
  {
   "cell_type": "code",
   "execution_count": null,
   "id": "45b62802",
   "metadata": {},
   "outputs": [],
   "source": []
  },
  {
   "cell_type": "code",
   "execution_count": 74,
   "id": "537db952",
   "metadata": {},
   "outputs": [],
   "source": [
    "obj = Students(\"Kashaf Naz\" ,\"2 DS\",\" pak \", \"Ds\", )"
   ]
  },
  {
   "cell_type": "code",
   "execution_count": null,
   "id": "346608a7",
   "metadata": {},
   "outputs": [],
   "source": []
  },
  {
   "cell_type": "code",
   "execution_count": null,
   "id": "5af09848",
   "metadata": {},
   "outputs": [],
   "source": []
  },
  {
   "cell_type": "code",
   "execution_count": 45,
   "id": "aa1fd570",
   "metadata": {},
   "outputs": [
    {
     "data": {
      "text/plain": [
       "'Kashaf Naz'"
      ]
     },
     "execution_count": 45,
     "metadata": {},
     "output_type": "execute_result"
    }
   ],
   "source": [
    "obj.get_name()"
   ]
  },
  {
   "cell_type": "code",
   "execution_count": null,
   "id": "e0e61fb8",
   "metadata": {},
   "outputs": [],
   "source": []
  },
  {
   "cell_type": "code",
   "execution_count": 48,
   "id": "cf26d3d3",
   "metadata": {},
   "outputs": [
    {
     "data": {
      "text/plain": [
       "'Ali'"
      ]
     },
     "execution_count": 48,
     "metadata": {},
     "output_type": "execute_result"
    }
   ],
   "source": []
  },
  {
   "cell_type": "code",
   "execution_count": null,
   "id": "e8a994dd",
   "metadata": {},
   "outputs": [],
   "source": []
  },
  {
   "cell_type": "code",
   "execution_count": 83,
   "id": "a238170f",
   "metadata": {},
   "outputs": [],
   "source": [
    "if obj.get_name == obj.get_course:\n",
    "    print(get_course_score)"
   ]
  },
  {
   "cell_type": "code",
   "execution_count": 47,
   "id": "f219bd44",
   "metadata": {},
   "outputs": [],
   "source": [
    "obj.set_course_score(\"[{“course”: datascience,” marks”:30},{“course”:python,”marks”:30} ]\")\n",
    "\n"
   ]
  },
  {
   "cell_type": "code",
   "execution_count": null,
   "id": "dcb8a8a1",
   "metadata": {},
   "outputs": [],
   "source": []
  }
 ],
 "metadata": {
  "kernelspec": {
   "display_name": "Python 3",
   "language": "python",
   "name": "python3"
  },
  "language_info": {
   "codemirror_mode": {
    "name": "ipython",
    "version": 3
   },
   "file_extension": ".py",
   "mimetype": "text/x-python",
   "name": "python",
   "nbconvert_exporter": "python",
   "pygments_lexer": "ipython3",
   "version": "3.8.8"
  }
 },
 "nbformat": 4,
 "nbformat_minor": 5
}
