{
 "cells": [
  {
   "cell_type": "markdown",
   "id": "f7e657e6",
   "metadata": {},
   "source": [
    "# Instructions\n",
    "1. Should Attempt all questions\n",
    "2. Google Search is allowed\n",
    "3. Write comments to explain your code\n",
    "4. In the case of Plagiarism. Zero would be marked and would be kicked out from the course\n",
    "5. Discussion with other classmates is not allowed\n",
    "6. Passing Marks 70"
   ]
  },
  {
   "cell_type": "markdown",
   "id": "156853e9",
   "metadata": {},
   "source": [
    "# Q1. Create a function add_numbers which takes 4 parameters\n",
    "1. x (integer)\n",
    "2. y (integer)\n",
    "3. z (integer)\n",
    "4. flag (Boolean)\n",
    "\n",
    "\n",
    "z and flag are optional parameters\n",
    "if function receives z then function should return the sum of x y and z else\n",
    "return the sum of x and y\n",
    "\n",
    "\n",
    "\n",
    "if flag is True also print the statement\n",
    "“Flag is True”\n"
   ]
  },
  {
   "cell_type": "code",
   "execution_count": null,
   "id": "48f43dc7",
   "metadata": {},
   "outputs": [],
   "source": [
    "#z and flag is optional \n",
    "#so, z can't recieved/ reached z beacuse z does't define in fun"
   ]
  },
  {
   "cell_type": "code",
   "execution_count": 56,
   "id": "702912fe",
   "metadata": {},
   "outputs": [
    {
     "name": "stdout",
     "output_type": "stream",
     "text": [
      "flag is True\n"
     ]
    }
   ],
   "source": [
    "def add_num(x,y,z=None,flag=None):\n",
    "    if flag is True:\n",
    "        print(\"flag is True\")\n",
    "    if z:\n",
    "        return x+y+z\n",
    "    else:\n",
    "        x+y\n",
    "        \n",
    "add_num(2,4,flag=True)"
   ]
  },
  {
   "cell_type": "code",
   "execution_count": 59,
   "id": "7377edad",
   "metadata": {},
   "outputs": [
    {
     "name": "stdout",
     "output_type": "stream",
     "text": [
      "flag is True\n",
      "13\n"
     ]
    }
   ],
   "source": [
    "print(add_num(2,4,7,flag=True))"
   ]
  },
  {
   "cell_type": "markdown",
   "id": "0bd44483",
   "metadata": {},
   "source": [
    "# Q2. Write a function get_datetime(int) that takes a param number_of_days and\n",
    "if the number is divisible by 2 returns (current_datetime + number_of_days) and\n",
    "\n",
    "if number is divisible by 3 returns (current_datetime - number_of_days)\n",
    "\n",
    "else return current_datetime\n"
   ]
  },
  {
   "cell_type": "code",
   "execution_count": null,
   "id": "94ccf3e7",
   "metadata": {},
   "outputs": [],
   "source": [
    "#because in this fun we have end results is date & time ..\n",
    "#.firstly we __import datetime\n",
    "#function with name get_datetime"
   ]
  },
  {
   "cell_type": "code",
   "execution_count": 71,
   "id": "83a64304",
   "metadata": {
    "scrolled": true
   },
   "outputs": [
    {
     "name": "stdout",
     "output_type": "stream",
     "text": [
      "2021-08-25 10:36:35.423458\n"
     ]
    }
   ],
   "source": [
    "import datetime as dt\n",
    "from datetime import datetime , timedelta\n",
    "import time\n",
    "\n",
    "current_datetime = dt.datetime.now()\n",
    "\n",
    "def get_datetime(number_of_days):\n",
    "    \n",
    "    current_datetime = dt.datetime.today()\n",
    "\n",
    "    date = timedelta(days=number_of_days)\n",
    "    \n",
    "    if number_of_days % 2 == 0:\n",
    "        print( current_datetime + date)\n",
    "    \n",
    "    elif number_of_days % 3 == 0:\n",
    "        print( current_datetime -  date)\n",
    "    else:\n",
    "        return (current_datetime)\n",
    "\n",
    "        \n",
    "get_datetime(18)"
   ]
  },
  {
   "cell_type": "markdown",
   "id": "716381c8",
   "metadata": {},
   "source": [
    "# Q3. Write a function concat_lst that takes two list as a parameter and combine two list together into single list\n",
    "\n",
    "and should not contains duplicate values.\n",
    "\n",
    "You must use loop to solve this question"
   ]
  },
  {
   "cell_type": "code",
   "execution_count": 74,
   "id": "7e0f12ba",
   "metadata": {},
   "outputs": [
    {
     "name": "stdout",
     "output_type": "stream",
     "text": [
      "Finally :( our concatenation list is  : [5, 77, 1, 3, 6]\n"
     ]
    }
   ],
   "source": [
    "def concat_lst(my_list,your_list):\n",
    "    for i in my_list:\n",
    "        if i not in your_list:\n",
    "            your_list.append(i)\n",
    "    print (\"Finally :( our concatenation list is  : \" + str(your_list))\n",
    "concat_lst([1, 3, 5, 6, 3, 5, 6,77, 1],[5,77])"
   ]
  },
  {
   "cell_type": "markdown",
   "id": "b8d0b4ea",
   "metadata": {},
   "source": [
    "# Q4. Write a function string_case using map that takes list of characters and return\n",
    "List of tuples with containing lower and upper case of that character’s list\n",
    "\n",
    "Final Output must contain unique tuple element"
   ]
  },
  {
   "cell_type": "code",
   "execution_count": null,
   "id": "bbdbdd35",
   "metadata": {},
   "outputs": [],
   "source": [
    "#function ----> string_case --->\n",
    "\n",
    "\n",
    "#output -- >> unique element"
   ]
  },
  {
   "cell_type": "code",
   "execution_count": 16,
   "id": "107fba25",
   "metadata": {},
   "outputs": [
    {
     "data": {
      "text/plain": [
       "[('S', 's'), ('F', 'f'), ('A', 'a'), ('K', 'k'), ('H', 'h')]"
      ]
     },
     "execution_count": 16,
     "metadata": {},
     "output_type": "execute_result"
    }
   ],
   "source": [
    "def sting_case(data_List):\n",
    "    data_pro = list(set(map(unique,data_List)))\n",
    "    return data_pro\n",
    "\n",
    "def unique(data):\n",
    "    return data.upper(),data.lower()\n",
    "sting_case([('K'),'a','s',('H'),'a','F'])"
   ]
  },
  {
   "cell_type": "markdown",
   "id": "6d81e4ef",
   "metadata": {},
   "source": [
    "# Q5. Write a function get_city_mpg_avg, that groups the cars by number of cylinders, and\n",
    "finding the average cty mpg for each group.\n",
    "\n",
    "Output should be in the list of tuples\n",
    "\n",
    "Output = [ (5,20),(4,18),(3,16) ]\n",
    "\n",
    "Note:\n",
    "\n",
    "1. Use MPG.csv file\n",
    "2. First index of tuple shows the number of cylinders and second index shows the average\n",
    "3. Result should be sorted by first tuple index by using lambda functions"
   ]
  },
  {
   "cell_type": "code",
   "execution_count": 107,
   "id": "8565ac09",
   "metadata": {},
   "outputs": [],
   "source": [
    "import csv\n",
    "with open('mpg.csv') as csv_file:\n",
    "    mpg = list(csv.DictReader(csv_file))"
   ]
  },
  {
   "cell_type": "code",
   "execution_count": 117,
   "id": "3202a225",
   "metadata": {},
   "outputs": [
    {
     "data": {
      "text/plain": [
       "[{'': '2',\n",
       "  'manufacturer': 'audi',\n",
       "  'model': 'a4',\n",
       "  'displ': '1.8',\n",
       "  'year': '1999',\n",
       "  'cyl': '4',\n",
       "  'trans': 'manual(m5)',\n",
       "  'drv': 'f',\n",
       "  'cty': '21',\n",
       "  'hwy': '29',\n",
       "  'fl': 'p',\n",
       "  'class': 'compact'}]"
      ]
     },
     "execution_count": 117,
     "metadata": {},
     "output_type": "execute_result"
    }
   ],
   "source": [
    "mpg[1:2]"
   ]
  },
  {
   "cell_type": "code",
   "execution_count": 26,
   "id": "311914b9",
   "metadata": {},
   "outputs": [],
   "source": [
    "import csv\n",
    "def unique_cyl(w):\n",
    "    cylinders=[]\n",
    "    for i in w:\n",
    "        cylinders.append(i['cyl'])\n",
    "    return list(cylinders)"
   ]
  },
  {
   "cell_type": "code",
   "execution_count": 27,
   "id": "69189ff5",
   "metadata": {},
   "outputs": [
    {
     "data": {
      "text/plain": [
       "[('4', 21.012345679012345),\n",
       " ('6', 16.21518987341772),\n",
       " ('8', 12.571428571428571),\n",
       " ('5', 20.5)]"
      ]
     },
     "execution_count": 27,
     "metadata": {},
     "output_type": "execute_result"
    }
   ],
   "source": [
    "def get_cty_mpg_avg():\n",
    "    with open('mpg.csv') as csv_file:\n",
    "        mpg=list(csv.DictReader(csv_file))\n",
    "    f=unique_cyl(mpg)\n",
    "    result=[]\n",
    "    for c in f:\n",
    "        sum_val=0\n",
    "        count=0\n",
    "        for i in mpg:\n",
    "            if i['cyl']==c:\n",
    "                sum_val=sum_val+float(i['cty'])\n",
    "                count=count+1\n",
    "        result.append((c,sum_val/count))\n",
    "        result.sort(key=lambda x:x[0])\n",
    "    r=list(set(result))\n",
    "    return r\n",
    "get_cty_mpg_avg()"
   ]
  },
  {
   "cell_type": "code",
   "execution_count": null,
   "id": "0d4d25b9",
   "metadata": {},
   "outputs": [],
   "source": []
  },
  {
   "cell_type": "markdown",
   "id": "25d8c124",
   "metadata": {},
   "source": [
    "# Q6. Write a function get_hwy_mpg_avg find the average hwy mpg for each class of vehicle\n",
    "Hwy mpg means highway mileage\n",
    "\n",
    "1. Use MPG.csv file\n",
    "\n",
    "2. Hwy mpg is found as hwy column in a file\n",
    "\n",
    "3. Vehicle class is found as class column in a file\n",
    "\n",
    "4. Sort Hwy Mpg in ascending order\n",
    "\n",
    "Output sample: [('pickup', 16.88),('suv', 18.13),('minivan', 22.36),\n",
    "\n",
    "('2seater', 24.80),('midsize', 27.29),\n",
    "\n",
    "('subcompact', 28.14), ('compact', 28.30)]"
   ]
  },
  {
   "cell_type": "code",
   "execution_count": 28,
   "id": "8a9ebf5f",
   "metadata": {},
   "outputs": [],
   "source": [
    "import csv\n",
    "def unique_cyl(w):\n",
    "    cylinders=[]\n",
    "    for i in w:\n",
    "        cylinders.append(i['class'])\n",
    "    return list(cylinders)"
   ]
  },
  {
   "cell_type": "code",
   "execution_count": 30,
   "id": "258562e8",
   "metadata": {},
   "outputs": [
    {
     "data": {
      "text/plain": [
       "[('midsize', 27.29268292682927),\n",
       " ('2seater', 24.8),\n",
       " ('subcompact', 28.142857142857142),\n",
       " ('minivan', 22.363636363636363),\n",
       " ('suv', 18.129032258064516),\n",
       " ('pickup', 16.87878787878788),\n",
       " ('compact', 28.29787234042553)]"
      ]
     },
     "execution_count": 30,
     "metadata": {},
     "output_type": "execute_result"
    }
   ],
   "source": [
    "def get_cty_mpg_avg():\n",
    "    with open('mpg.csv') as csv_file:\n",
    "        mpg=list(csv.DictReader(csv_file))\n",
    "    f=unique_cyl(mpg)\n",
    "    result=[]\n",
    "    for c in f:\n",
    "        sum_val=0\n",
    "        count=0\n",
    "        for i in mpg:\n",
    "            if i['class']==c:\n",
    "                sum_val=sum_val+float(i['hwy'])\n",
    "                count=count+1\n",
    "        result.append((c,sum_val/count))\n",
    "        result.sort(key=lambda x:x[0])\n",
    "    r=list(set(result))\n",
    "    return r\n",
    "get_cty_mpg_avg()"
   ]
  },
  {
   "cell_type": "code",
   "execution_count": null,
   "id": "aad1f9b4",
   "metadata": {},
   "outputs": [],
   "source": []
  },
  {
   "cell_type": "markdown",
   "id": "8c541afb",
   "metadata": {},
   "source": [
    "# Q7. Create a class Student with the following getters and setters\n",
    "1. Constructor\n",
    "\n",
    "a. Create an Object with following parameters\n",
    "\n",
    "i. Name\n",
    "\n",
    "ii. Batch No\n",
    "\n",
    "iii. Address\n",
    "\n",
    "iv. Age\n",
    "\n",
    "v. Father Name\n",
    "\n",
    "vi. City\n",
    "\n",
    "2. New\n",
    "\n",
    "a. Students with age more than 18 are not allowed in the school\n",
    "\n",
    "b. Students of Lahore Islamabad Faisalabad Karachi are allowed\n",
    "\n",
    "3. Setters\n",
    "\n",
    "a. Name (str)\n",
    "\n",
    "b. Batch no (int)\n",
    "\n",
    "c. Address (str)\n",
    "\n",
    "d. Age (str)\n",
    "\n",
    "e. Father name (str)\n",
    "\n",
    "f. City (str)\n",
    "\n",
    "4. Getters\n",
    "\n",
    "a. Name\n",
    "\n",
    "b. Batch no\n",
    "\n",
    "c. Address\n",
    "\n",
    "d. Age\n",
    "\n",
    "e. Father name\n",
    "\n",
    "f. City\n",
    "\n",
    "5. Create a new class called DevnationStudents which is a child class of \n",
    "\n",
    "Student\n",
    "\n",
    "a. Write a constructor that\n",
    "\n",
    "i. That calls the Parent Class Constructor\n",
    "\n",
    "ii. Also save courses and marks as empty list in the child constructor\n",
    "\n",
    "b. Write setter functions\n",
    "\n",
    "i. Add courses\n",
    "\n",
    "1. Takes a list of courses\n",
    "\n",
    "2. Add only those courses in the list which are not already in the\n",
    "\n",
    "ii. Add courses_marks\n",
    "\n",
    "1. This takes the list of dictionaries\n",
    "\n",
    "2. If the particular exists in the courses lists then the particular \n",
    "\n",
    "dictionary\n",
    "\n",
    "should be added in the marks list\n",
    "\n",
    "3. Marks list should not contains duplicate entries of same courses\n",
    "\n",
    "c. Write getter functions\n",
    "\n",
    "i. Get courses\n",
    "\n",
    "ii. Get Marks"
   ]
  },
  {
   "cell_type": "markdown",
   "id": "b2f3d339",
   "metadata": {},
   "source": [
    "# New\n",
    "a. Students with age more than 18 are not allowed in the school\n",
    "\n",
    "b. Students of Lahore Islamabad Faisalabad Karachi are allowed"
   ]
  },
  {
   "cell_type": "code",
   "execution_count": 118,
   "id": "040fe32e",
   "metadata": {},
   "outputs": [],
   "source": [
    "class Students:\n",
    "    \n",
    "    def __new__(cls,name,batch_no,address,age,father_name,city):\n",
    "        a = list([ 'Lahore', 'Islamabad' , 'Faisalabad', 'Karachi' ])\n",
    "        if (age < 18) & (city in a):\n",
    "            print(\"YOU ARE ALLOWED\")\n",
    "            inst = object.__new__(cls)\n",
    "            return inst\n",
    "        else:\n",
    "            print(\"YOU ARE NOT ALLOWED\")\n",
    "    \n",
    "    def __init__(self ,name,batch_no,address,age,father_name,city):\n",
    "        self.name = name\n",
    "        self.batch_no = batch_no\n",
    "        self.address = address\n",
    "        self.age = age\n",
    "        self.father_name = father_name\n",
    "        self.city = city\n",
    "        \n",
    "    def set_name(self,name):\n",
    "        self.name = name\n",
    "    \n",
    "    def set_batch_no(self,batch_no):\n",
    "        self.batch_no = batch_no\n",
    "        \n",
    "    def set_address(self,address):\n",
    "        self.address = address\n",
    "        \n",
    "    def set_age(self,age):\n",
    "        self.age = age\n",
    "    \n",
    "    def set_father_name(self,father_name):\n",
    "        self.father_name = father_name\n",
    "        \n",
    "    def set_city(self,city):\n",
    "    \n",
    "        self.city = city\n",
    "    \n",
    "\n",
    "            \n",
    "    def get_name(self):\n",
    "        return self.name\n",
    "    \n",
    "    def get_batch_no(self):\n",
    "        return self.batch_no\n",
    "    \n",
    "    def get_address(self):\n",
    "        return self.address\n",
    "    \n",
    "    def get_age(self):\n",
    "        return self.age\n",
    "    \n",
    "    def get_father_name(self):\n",
    "        return self.father_name\n",
    "        \n",
    "    def get_city(self):\n",
    "        return self.city\n",
    "    \n",
    "class Devnationstudents(Students):\n",
    "    def __init__(self ,name,batch_no, address,age,father_name, courses=[], marks=[]):\n",
    "        super().__init__(name,batch_no,address,age,father_name,city)\n",
    "        self.courses = courses\n",
    "        self.marks = marks\n",
    "        \n",
    "    def set_courses(self, courses):\n",
    "        for i in courses:\n",
    "            if i not in self.courses:\n",
    "                self.courses.append(i)\n",
    "\n",
    "    def check_point(self, point):\n",
    "        dup = False\n",
    "        for default_y in self.marks:\n",
    "            if default_y[\"courses\"] == point:\n",
    "                dup = True\n",
    "        return dup\n",
    "              \n",
    "    def set_marks(self, marks):\n",
    "        \n",
    "        for new_x in marks:\n",
    "            if new_x[\"courses\"] in self.courses:\n",
    "                if (self.check_point(new_x[\"course\"])):\n",
    "                    continue\n",
    "                else:\n",
    "                    self.marks.append(new_x)\n",
    "            \n",
    "\n",
    "    def get_courses(self):\n",
    "        return self.courses\n",
    "    def get_marks(self):\n",
    "        return self.marks\n"
   ]
  },
  {
   "cell_type": "code",
   "execution_count": 119,
   "id": "584b4ee7",
   "metadata": {},
   "outputs": [
    {
     "name": "stdout",
     "output_type": "stream",
     "text": [
      "YOU ARE NOT ALLOWED\n"
     ]
    }
   ],
   "source": [
    "x = Devnationstudents(\"kashaf\", 1, \"swl\",17,\"younas\",\"isb\")"
   ]
  },
  {
   "cell_type": "markdown",
   "id": "6b7b86ae",
   "metadata": {},
   "source": [
    "# Q8. Write a function get_indices that receives the list of integers nums and an integer target, return indices of\n",
    "\n",
    "the two numbers such that they add up to target. You may assume that each \n",
    "\n",
    "input would have exactly one\n",
    "\n",
    "solution, and you may not use the same element twice.\n",
    "\n",
    "You can return the answer in any order.\n",
    "\n",
    "Input: nums = [2,7,11,15], target = 9\n",
    "\n",
    "Output: [0,1]\n"
   ]
  },
  {
   "cell_type": "code",
   "execution_count": 117,
   "id": "59d81e4c",
   "metadata": {},
   "outputs": [
    {
     "name": "stdout",
     "output_type": "stream",
     "text": [
      "(5, 6)\n"
     ]
    }
   ],
   "source": [
    "def two_sum(in_list,in_tar):\n",
    "    l = {}\n",
    "    for n,x in enumerate(in_list,1):\n",
    "        try:\n",
    "            return l[x], n\n",
    "        except KeyError:\n",
    "            l.setdefault(in_tar - x,n)\n",
    "\n",
    "a = (2,7,1,15,33,4)\n",
    "t = 37\n",
    "print(two_sum(a,t))"
   ]
  },
  {
   "cell_type": "markdown",
   "id": "26d88072",
   "metadata": {},
   "source": [
    "# Q9. Write a function backward_number. That a receives a number and return the number in backwards\n",
    "Input = 1234\n",
    "Output = 4321"
   ]
  },
  {
   "cell_type": "code",
   "execution_count": 12,
   "id": "806210d0",
   "metadata": {},
   "outputs": [],
   "source": [
    "def backward_number(get_list):\n",
    "    revs = 0\n",
    "    while(get_list>0):\n",
    "        li = get_list % 10\n",
    "        \n",
    "        revs =    (revs  *10 ) +li \n",
    "        get_list = get_list // 10\n",
    "    return revs"
   ]
  },
  {
   "cell_type": "code",
   "execution_count": 13,
   "id": "2fa2ec1e",
   "metadata": {},
   "outputs": [
    {
     "data": {
      "text/plain": [
       "4321"
      ]
     },
     "execution_count": 13,
     "metadata": {},
     "output_type": "execute_result"
    }
   ],
   "source": [
    "backward_number(1234)"
   ]
  },
  {
   "cell_type": "code",
   "execution_count": 14,
   "id": "9df2c486",
   "metadata": {},
   "outputs": [
    {
     "data": {
      "text/plain": [
       "12345678"
      ]
     },
     "execution_count": 14,
     "metadata": {},
     "output_type": "execute_result"
    }
   ],
   "source": [
    "123456789 // 10"
   ]
  },
  {
   "cell_type": "markdown",
   "id": "90ed188c",
   "metadata": {},
   "source": [
    "# Q10. Create a function remove_duplication that takes a list and remove duplication from list.\n",
    "You cannot use set function"
   ]
  },
  {
   "cell_type": "code",
   "execution_count": 49,
   "id": "4c335f3d",
   "metadata": {},
   "outputs": [
    {
     "data": {
      "text/plain": [
       "['kashaf', 'naz', 18, 'sep', '10999-2021', '1999-2021']"
      ]
     },
     "execution_count": 49,
     "metadata": {},
     "output_type": "execute_result"
    }
   ],
   "source": [
    "def remove_duplication(a_list):\n",
    "     return list(dict.fromkeys(a_list))\n",
    "remove_duplication(['kashaf','naz',18,'naz','sep', '10999-2021','kashaf','naz',18,'naz','sep', '1999-2021'])"
   ]
  },
  {
   "cell_type": "code",
   "execution_count": null,
   "id": "a6ee3a95",
   "metadata": {},
   "outputs": [],
   "source": []
  }
 ],
 "metadata": {
  "kernelspec": {
   "display_name": "Python 3",
   "language": "python",
   "name": "python3"
  },
  "language_info": {
   "codemirror_mode": {
    "name": "ipython",
    "version": 3
   },
   "file_extension": ".py",
   "mimetype": "text/x-python",
   "name": "python",
   "nbconvert_exporter": "python",
   "pygments_lexer": "ipython3",
   "version": "3.8.8"
  }
 },
 "nbformat": 4,
 "nbformat_minor": 5
}
