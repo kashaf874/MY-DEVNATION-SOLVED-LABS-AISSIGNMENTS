{
 "cells": [
  {
   "cell_type": "markdown",
   "id": "97ecaee9",
   "metadata": {},
   "source": [
    "# Q1. Create a class Queue Contains\n",
    "\n",
    "a. Items\n",
    "2. Functions\n",
    "a. enqueue\n",
    "i. insert the item at start of the queue\n",
    "b. dequeue\n",
    "i. dequeue the first element from the queue\n",
    "c. peak\n",
    "i. Returns top element of the queue\n",
    "d. print_stack\n",
    "i. Display the entire queue\n",
    "e. size\n",
    "i. Return total number of items in the queue\n",
    "f. dequeue_without_using_insert\n",
    "i. Insert the item at start of the queue without using .insert method of\n",
    "string\n",
    "\n",
    "Note: Not a single function should crash on an empty stack"
   ]
  },
  {
   "cell_type": "code",
   "execution_count": 126,
   "id": "40d6129f",
   "metadata": {},
   "outputs": [],
   "source": [
    "class Queue:\n",
    "    def __init__(self):\n",
    "        self.items = []\n",
    "    \n",
    "    def enqueue(self, item):\n",
    "        self.items.insert(0, item)\n",
    "    \n",
    "    def dequeue(self):\n",
    "        if self.size():\n",
    "            return self.items.pop()\n",
    "    \n",
    "    def peak(self):\n",
    "        if self.size():\n",
    "            return self.items[-1]\n",
    "    \n",
    "    def print_Queue(self):\n",
    "        for i in self.items:\n",
    "                print(i)\n",
    "    \n",
    "    def size(self):\n",
    "        return len(self.items)\n",
    "    \n",
    "    def enqueue_without_using_insert(self, item):\n",
    "        new_item = [item]\n",
    "        self.items = new_item + self.items\n",
    "  \n",
    "            \n",
    "        \n",
    "    \n",
    "    def is_empty(self):\n",
    "        if len(self.items) != 0:\n",
    "            return False\n",
    "        else:\n",
    "            return True\n",
    "        "
   ]
  },
  {
   "cell_type": "code",
   "execution_count": 127,
   "id": "38e13d85",
   "metadata": {},
   "outputs": [],
   "source": [
    "var = Queue()"
   ]
  },
  {
   "cell_type": "code",
   "execution_count": 128,
   "id": "8586e4a2",
   "metadata": {},
   "outputs": [],
   "source": [
    "var.print_Queue()"
   ]
  },
  {
   "cell_type": "code",
   "execution_count": 129,
   "id": "fd0def85",
   "metadata": {},
   "outputs": [
    {
     "data": {
      "text/plain": [
       "True"
      ]
     },
     "execution_count": 129,
     "metadata": {},
     "output_type": "execute_result"
    }
   ],
   "source": [
    "var.is_empty()"
   ]
  },
  {
   "cell_type": "code",
   "execution_count": 130,
   "id": "74442e67",
   "metadata": {},
   "outputs": [],
   "source": [
    "var.peak()"
   ]
  },
  {
   "cell_type": "code",
   "execution_count": 131,
   "id": "d6cfbf8d",
   "metadata": {},
   "outputs": [
    {
     "data": {
      "text/plain": [
       "0"
      ]
     },
     "execution_count": 131,
     "metadata": {},
     "output_type": "execute_result"
    }
   ],
   "source": [
    "var.size()"
   ]
  },
  {
   "cell_type": "code",
   "execution_count": 132,
   "id": "c9a187a4",
   "metadata": {},
   "outputs": [],
   "source": [
    "var.enqueue(\"kashaf\")\n",
    "var.enqueue(\"Naz\")\n",
    "var.enqueue(\"Comsats\")"
   ]
  },
  {
   "cell_type": "code",
   "execution_count": 133,
   "id": "1a427d70",
   "metadata": {},
   "outputs": [
    {
     "name": "stdout",
     "output_type": "stream",
     "text": [
      "Comsats\n",
      "Naz\n",
      "kashaf\n"
     ]
    }
   ],
   "source": [
    "var.print_Queue()"
   ]
  },
  {
   "cell_type": "code",
   "execution_count": 134,
   "id": "18c049a9",
   "metadata": {},
   "outputs": [],
   "source": [
    "var.enqueue_without_using_insert(\"naz\")"
   ]
  },
  {
   "cell_type": "code",
   "execution_count": 135,
   "id": "8baaf64d",
   "metadata": {},
   "outputs": [
    {
     "name": "stdout",
     "output_type": "stream",
     "text": [
      "naz\n",
      "Comsats\n",
      "Naz\n",
      "kashaf\n"
     ]
    }
   ],
   "source": [
    "var.print_Queue()"
   ]
  },
  {
   "cell_type": "code",
   "execution_count": 136,
   "id": "7f0bf87e",
   "metadata": {},
   "outputs": [
    {
     "data": {
      "text/plain": [
       "4"
      ]
     },
     "execution_count": 136,
     "metadata": {},
     "output_type": "execute_result"
    }
   ],
   "source": [
    "var.size()"
   ]
  },
  {
   "cell_type": "code",
   "execution_count": 137,
   "id": "72b3aeb9",
   "metadata": {},
   "outputs": [
    {
     "data": {
      "text/plain": [
       "4"
      ]
     },
     "execution_count": 137,
     "metadata": {},
     "output_type": "execute_result"
    }
   ],
   "source": [
    "var.size()"
   ]
  },
  {
   "cell_type": "code",
   "execution_count": 138,
   "id": "cda52700",
   "metadata": {},
   "outputs": [
    {
     "data": {
      "text/plain": [
       "'Comsats'"
      ]
     },
     "execution_count": 138,
     "metadata": {},
     "output_type": "execute_result"
    }
   ],
   "source": [
    "stack_1.peak()"
   ]
  },
  {
   "cell_type": "code",
   "execution_count": 139,
   "id": "e9e32254",
   "metadata": {},
   "outputs": [
    {
     "data": {
      "text/plain": [
       "'kashaf'"
      ]
     },
     "execution_count": 139,
     "metadata": {},
     "output_type": "execute_result"
    }
   ],
   "source": [
    "var.dequeue()"
   ]
  },
  {
   "cell_type": "code",
   "execution_count": 140,
   "id": "a308af8f",
   "metadata": {},
   "outputs": [
    {
     "data": {
      "text/plain": [
       "'Naz'"
      ]
     },
     "execution_count": 140,
     "metadata": {},
     "output_type": "execute_result"
    }
   ],
   "source": [
    "var.dequeue()"
   ]
  },
  {
   "cell_type": "code",
   "execution_count": 141,
   "id": "50f7df24",
   "metadata": {},
   "outputs": [
    {
     "data": {
      "text/plain": [
       "'Comsats'"
      ]
     },
     "execution_count": 141,
     "metadata": {},
     "output_type": "execute_result"
    }
   ],
   "source": [
    "var.dequeue()"
   ]
  },
  {
   "cell_type": "code",
   "execution_count": 142,
   "id": "9da80c43",
   "metadata": {},
   "outputs": [
    {
     "name": "stdout",
     "output_type": "stream",
     "text": [
      "naz\n"
     ]
    }
   ],
   "source": [
    "var.print_Queue()"
   ]
  },
  {
   "cell_type": "code",
   "execution_count": 143,
   "id": "71f24f39",
   "metadata": {},
   "outputs": [
    {
     "data": {
      "text/plain": [
       "'naz'"
      ]
     },
     "execution_count": 143,
     "metadata": {},
     "output_type": "execute_result"
    }
   ],
   "source": [
    "var.dequeue()"
   ]
  },
  {
   "cell_type": "code",
   "execution_count": 144,
   "id": "7c168fe7",
   "metadata": {},
   "outputs": [],
   "source": [
    "var.print_Queue()"
   ]
  },
  {
   "cell_type": "code",
   "execution_count": null,
   "id": "69ebef05",
   "metadata": {},
   "outputs": [],
   "source": []
  }
 ],
 "metadata": {
  "kernelspec": {
   "display_name": "Python 3",
   "language": "python",
   "name": "python3"
  },
  "language_info": {
   "codemirror_mode": {
    "name": "ipython",
    "version": 3
   },
   "file_extension": ".py",
   "mimetype": "text/x-python",
   "name": "python",
   "nbconvert_exporter": "python",
   "pygments_lexer": "ipython3",
   "version": "3.8.8"
  }
 },
 "nbformat": 4,
 "nbformat_minor": 5
}
