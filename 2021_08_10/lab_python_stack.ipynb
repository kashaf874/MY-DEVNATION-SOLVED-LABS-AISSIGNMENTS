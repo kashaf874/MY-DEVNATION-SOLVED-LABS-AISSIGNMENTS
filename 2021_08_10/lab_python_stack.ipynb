{
 "cells": [
  {
   "cell_type": "markdown",
   "id": "f0163054",
   "metadata": {},
   "source": [
    "# Q1. Create a class Stack Contains\n",
    "\n",
    "a. Items\n",
    "2. Functions\n",
    "a. push\n",
    "i. insert the item at start of the stack\n",
    "b. pop\n",
    "i. Pop first element from the stack\n",
    "c. peak\n",
    "i. Returns top element of the stack\n",
    "d. print_stack\n",
    "i. Display the entire\n",
    "e. size\n",
    "i. Return total number of items in the stack\n",
    "f. push_without_using_insert\n",
    "i. Insert the item at start of the stack without using .insert method of\n",
    "string\n",
    "\n",
    "Note: Not a single function should crash on an empty stack"
   ]
  },
  {
   "cell_type": "code",
   "execution_count": 98,
   "id": "9d47fbce",
   "metadata": {},
   "outputs": [],
   "source": [
    "class Stack:\n",
    "    def __init__(self):\n",
    "        self.items = []\n",
    "        \n",
    "    def push(self, item):\n",
    "        self.items.insert(0,item)\n",
    "        \n",
    "    def pop(self):\n",
    "        if self.is_empty is True:\n",
    "            return self.items.pop(0) \n",
    "        else:\n",
    "            print(\"stack is Empty\")\n",
    "    \n",
    "    def peek(self):\n",
    "        if self.is_empty  != 0:\n",
    "            return self.items[0]\n",
    "        else:\n",
    "            print(\"list is empty\")\n",
    "    \n",
    "    \n",
    "    \n",
    "    def size(self):\n",
    "        return len(self.items)\n",
    "    \n",
    "    \n",
    "    def print_stack(self):\n",
    "        print(self.items)\n",
    "        \n",
    "    \n",
    "    def push_without_using_insert(self,item):\n",
    "        if self.is_empty is True:\n",
    "            return self.items \n",
    "        new_item = [item]\n",
    "        self.items = new_item + self.items\n",
    "       \n",
    "         \n",
    "        \n",
    "        \n",
    "    def is_empty(self):\n",
    "        if len(self.items) != 0:\n",
    "            return True\n",
    "        else:\n",
    "            return False\n",
    "        "
   ]
  },
  {
   "cell_type": "code",
   "execution_count": 99,
   "id": "62762ef7",
   "metadata": {},
   "outputs": [],
   "source": [
    "var = Stack()"
   ]
  },
  {
   "cell_type": "code",
   "execution_count": 100,
   "id": "6010b360",
   "metadata": {},
   "outputs": [
    {
     "name": "stdout",
     "output_type": "stream",
     "text": [
      "stack is Empty\n"
     ]
    }
   ],
   "source": [
    "var.pop()"
   ]
  },
  {
   "cell_type": "code",
   "execution_count": 101,
   "id": "98c8fc1c",
   "metadata": {},
   "outputs": [
    {
     "data": {
      "text/plain": [
       "False"
      ]
     },
     "execution_count": 101,
     "metadata": {},
     "output_type": "execute_result"
    }
   ],
   "source": [
    "var.is_empty()"
   ]
  },
  {
   "cell_type": "code",
   "execution_count": 97,
   "id": "8e1390c1",
   "metadata": {},
   "outputs": [
    {
     "name": "stdout",
     "output_type": "stream",
     "text": [
      "stack is Empty\n"
     ]
    }
   ],
   "source": [
    "var.pop()"
   ]
  },
  {
   "cell_type": "code",
   "execution_count": 79,
   "id": "77454f27",
   "metadata": {},
   "outputs": [],
   "source": [
    "var.push(1)\n",
    "var.push(2)\n",
    "var.push(3)\n",
    "var.push(4)\n",
    "var.push(5)\n",
    "var.push(6)"
   ]
  },
  {
   "cell_type": "code",
   "execution_count": 80,
   "id": "bc8cc4e3",
   "metadata": {},
   "outputs": [
    {
     "name": "stdout",
     "output_type": "stream",
     "text": [
      "[6, 5, 4, 3, 2, 1]\n"
     ]
    }
   ],
   "source": [
    "var.print_stack()"
   ]
  },
  {
   "cell_type": "code",
   "execution_count": 81,
   "id": "3cd36194",
   "metadata": {},
   "outputs": [
    {
     "data": {
      "text/plain": [
       "6"
      ]
     },
     "execution_count": 81,
     "metadata": {},
     "output_type": "execute_result"
    }
   ],
   "source": [
    "var.pop()"
   ]
  },
  {
   "cell_type": "code",
   "execution_count": 82,
   "id": "32277f8e",
   "metadata": {},
   "outputs": [
    {
     "name": "stdout",
     "output_type": "stream",
     "text": [
      "[5, 4, 3, 2, 1]\n"
     ]
    }
   ],
   "source": [
    "var.print_stack()"
   ]
  },
  {
   "cell_type": "code",
   "execution_count": 83,
   "id": "f3b723bc",
   "metadata": {},
   "outputs": [
    {
     "data": {
      "text/plain": [
       "5"
      ]
     },
     "execution_count": 83,
     "metadata": {},
     "output_type": "execute_result"
    }
   ],
   "source": [
    "var.peek()"
   ]
  },
  {
   "cell_type": "code",
   "execution_count": 84,
   "id": "8bd2df64",
   "metadata": {},
   "outputs": [],
   "source": [
    "var.push_without_using_insert(1)"
   ]
  },
  {
   "cell_type": "code",
   "execution_count": 85,
   "id": "00ab15cb",
   "metadata": {},
   "outputs": [
    {
     "name": "stdout",
     "output_type": "stream",
     "text": [
      "[1, 5, 4, 3, 2, 1]\n"
     ]
    }
   ],
   "source": [
    "var.print_stack()"
   ]
  },
  {
   "cell_type": "code",
   "execution_count": 86,
   "id": "e6c57dde",
   "metadata": {},
   "outputs": [
    {
     "data": {
      "text/plain": [
       "False"
      ]
     },
     "execution_count": 86,
     "metadata": {},
     "output_type": "execute_result"
    }
   ],
   "source": [
    "var.is_empty()"
   ]
  },
  {
   "cell_type": "code",
   "execution_count": 87,
   "id": "2594627a",
   "metadata": {},
   "outputs": [
    {
     "name": "stdout",
     "output_type": "stream",
     "text": [
      "[1, 5, 4, 3, 2, 1]\n"
     ]
    }
   ],
   "source": [
    "var.print_stack()"
   ]
  },
  {
   "cell_type": "code",
   "execution_count": 88,
   "id": "d104ba52",
   "metadata": {},
   "outputs": [
    {
     "data": {
      "text/plain": [
       "1"
      ]
     },
     "execution_count": 88,
     "metadata": {},
     "output_type": "execute_result"
    }
   ],
   "source": [
    "var.pop()"
   ]
  },
  {
   "cell_type": "code",
   "execution_count": null,
   "id": "b11d8722",
   "metadata": {},
   "outputs": [],
   "source": []
  }
 ],
 "metadata": {
  "kernelspec": {
   "display_name": "Python 3",
   "language": "python",
   "name": "python3"
  },
  "language_info": {
   "codemirror_mode": {
    "name": "ipython",
    "version": 3
   },
   "file_extension": ".py",
   "mimetype": "text/x-python",
   "name": "python",
   "nbconvert_exporter": "python",
   "pygments_lexer": "ipython3",
   "version": "3.8.8"
  }
 },
 "nbformat": 4,
 "nbformat_minor": 5
}
