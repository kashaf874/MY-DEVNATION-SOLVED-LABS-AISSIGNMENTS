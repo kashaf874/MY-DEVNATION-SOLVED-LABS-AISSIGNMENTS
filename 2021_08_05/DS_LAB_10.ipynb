{
 "cells": [
  {
   "cell_type": "markdown",
   "id": "3f392ebe",
   "metadata": {},
   "source": [
    "# Q1. Create a class singly CircularLinkedList\n",
    "1. Contains\n",
    "a. Data\n",
    "b. Next\n",
    "2. Functions\n",
    "a. Add_in_begginning (Most Important)\n",
    "i. Receives New data\n",
    "ii. Add new Node in the start of the linked list\n",
    "b. Add_at_particular_position\n",
    "i. Add new data\n",
    "ii. Add Position value\n",
    "1. I.e if position value is 2 it means that add new node after 3rd\n",
    "node considering first node starts from 1\n",
    "th position\n",
    "\n",
    "c. Add_at_the_end\n",
    "i. Receives new data\n",
    "ii. Add new Node at the end of the linked list\n",
    "d. Print Entire LinkedList"
   ]
  },
  {
   "cell_type": "code",
   "execution_count": 41,
   "id": "97c3f48e",
   "metadata": {},
   "outputs": [],
   "source": [
    "class Node:\n",
    "    def __init__(self, data):\n",
    "        self.data = data\n",
    "        self.Next = None\n",
    "        \n",
    "        \n",
    "class CircularLinkedList:\n",
    "    #constructor to creat empty linked list\n",
    "    def __init__(self):\n",
    "        self.head = None\n",
    "        \n",
    "    def add_in_begginning(self, new_data):\n",
    "        new_node = Node(new_data)\n",
    "        temp = self.head    \n",
    "        new_node.next = self.head\n",
    "\n",
    "        if self.head is not None:\n",
    "             while(temp.next != self.head):\n",
    "                temp = temp.next\n",
    "                temp.next = new_node\n",
    "        else:\n",
    "                new_node.next = new_node\n",
    "                self.head = new_node\n",
    "    def add_at_particular_position(self,new_data,position):\n",
    "        new_node=Node(new_data)\n",
    "        if self.head == None:\n",
    "            self.head = new_node\n",
    "            new_node.next = self.head\n",
    "        else:\n",
    "            temp=self.head\n",
    "            count=1\n",
    "            while(temp):\n",
    "                if position == count:\n",
    "                    temp_node=temp.next\n",
    "                    new_node.next=temp_node\n",
    "                    temp.next=new_node\n",
    "                    break\n",
    "                count+=1\n",
    "                temp=temp.next\n",
    "                \n",
    "    def add_at_the_end(self,new_data):\n",
    "        new_node = Node(new_data)\n",
    "        \n",
    "        if(self.head == None):\n",
    "            self.head=new_node\n",
    "         \n",
    "        temp= self.head\n",
    "        while(temp.next):\n",
    "            temp=temp.next\n",
    "           \n",
    "        temp.next=new_node\n",
    "    \n",
    "    def print_linked_list(self):\n",
    "        temp=self.head\n",
    "        if self.head is not None:\n",
    "            while(True):\n",
    "                print(temp.data)\n",
    "                temp=temp.next\n",
    "                if temp == self.head:\n",
    "                    print(\"same \")\n",
    "                    break"
   ]
  },
  {
   "cell_type": "code",
   "execution_count": 42,
   "id": "469c08d4",
   "metadata": {},
   "outputs": [],
   "source": [
    "l = CircularLinkedList()"
   ]
  },
  {
   "cell_type": "code",
   "execution_count": 43,
   "id": "644e2b16",
   "metadata": {},
   "outputs": [],
   "source": [
    "l.add_in_begginning(1)"
   ]
  },
  {
   "cell_type": "code",
   "execution_count": 44,
   "id": "c3945bec",
   "metadata": {},
   "outputs": [],
   "source": [
    "l.add_in_begginning(2)"
   ]
  },
  {
   "cell_type": "code",
   "execution_count": 45,
   "id": "1bc912b7",
   "metadata": {},
   "outputs": [],
   "source": [
    "l.add_in_begginning(3)"
   ]
  },
  {
   "cell_type": "code",
   "execution_count": 46,
   "id": "a5e1864f",
   "metadata": {},
   "outputs": [],
   "source": [
    "l.add_in_begginning(4)"
   ]
  },
  {
   "cell_type": "code",
   "execution_count": 47,
   "id": "ea8c1a59",
   "metadata": {},
   "outputs": [
    {
     "name": "stdout",
     "output_type": "stream",
     "text": [
      "1\n",
      "same \n"
     ]
    }
   ],
   "source": [
    "l.print_linked_list()"
   ]
  },
  {
   "cell_type": "code",
   "execution_count": null,
   "id": "14e1ad15",
   "metadata": {},
   "outputs": [],
   "source": [
    "l.add_at_particular_position(33,0)"
   ]
  },
  {
   "cell_type": "code",
   "execution_count": null,
   "id": "2b8bbd86",
   "metadata": {},
   "outputs": [],
   "source": [
    "l.print_linked_list()"
   ]
  },
  {
   "cell_type": "code",
   "execution_count": null,
   "id": "72b4b4c1",
   "metadata": {},
   "outputs": [],
   "source": []
  },
  {
   "cell_type": "code",
   "execution_count": null,
   "id": "101066f0",
   "metadata": {},
   "outputs": [],
   "source": []
  }
 ],
 "metadata": {
  "kernelspec": {
   "display_name": "Python 3",
   "language": "python",
   "name": "python3"
  },
  "language_info": {
   "codemirror_mode": {
    "name": "ipython",
    "version": 3
   },
   "file_extension": ".py",
   "mimetype": "text/x-python",
   "name": "python",
   "nbconvert_exporter": "python",
   "pygments_lexer": "ipython3",
   "version": "3.8.8"
  }
 },
 "nbformat": 4,
 "nbformat_minor": 5
}
