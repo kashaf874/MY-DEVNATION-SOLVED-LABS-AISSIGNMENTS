{
 "cells": [
  {
   "cell_type": "code",
   "execution_count": 31,
   "id": "8e753f7b",
   "metadata": {},
   "outputs": [
    {
     "name": "stdout",
     "output_type": "stream",
     "text": [
      "2021\n"
     ]
    }
   ],
   "source": [
    "class Person:\n",
    "    def __init__(self, fname, lname):\n",
    "        self.firstname = fname\n",
    "        self.lastname = lname\n",
    "\n",
    "    def printname(self):\n",
    "        print(self.firstname, self.lastname)\n",
    "\n",
    "class Student(Person):\n",
    "    def __init__(self, fname, lname, year):\n",
    "        super().__init__(fname, lname)\n",
    "        self.graduationyear = year\n",
    "\n",
    "x = Student(\"naz\", \"kashaf\", 2021)\n",
    "print(x.graduationyear)"
   ]
  },
  {
   "cell_type": "markdown",
   "id": "f16bdaec",
   "metadata": {},
   "source": [
    "# Question break down\n",
    "\n",
    "in this code we will  create a child class in which access parent class\n",
    "\n",
    "# creat a class \"student\"\n",
    "\n",
    "following parameter\n",
    "\"i. Name\n",
    "ii. Batch No\n",
    "iii. Address\"\n",
    "\n",
    "## creat new child class \"DevnationStudents\"\n",
    "\n",
    "1.in which we will call parent class const\n",
    "    save \"course\"\"marks\" list as empty\n",
    "2.Add only those courses in the list which are not already in the\n",
    "list\n",
    "3.add dict\n",
    "4.Marks list should not contains duplicate entries of same\n",
    "courses\n"
   ]
  },
  {
   "cell_type": "code",
   "execution_count": 82,
   "id": "a2104f1e",
   "metadata": {},
   "outputs": [],
   "source": [
    "class Student:\n",
    "    def __init__(self,name,batch_no,address):\n",
    "        self.name = name\n",
    "        self.batch_no = batch_no\n",
    "        self.address = address\n",
    "        \n",
    "    def set_name(self):\n",
    "        return self.name\n",
    "    def set_batch_no(self):\n",
    "        return self.batch_no\n",
    "    def set_adress(self):\n",
    "        return self.address\n",
    "\n",
    "    \n",
    "    def get_name(self):\n",
    "        return self.name\n",
    "    def get_batch_no(self):\n",
    "        return self.batch_no\n",
    "    def get_adress(self):\n",
    "        return self.adress\n",
    "\n",
    "class Devnationstudents(Student):\n",
    "    def __init__(self,name,batch_no, address, courses=[], marks=[]):\n",
    "        super().__init__(name,batch_no,address)\n",
    "        self.courses = courses\n",
    "        self.marks = marks\n",
    "        self.marks = []\n",
    "        \n",
    "    def set_courses(self, courses):\n",
    "        for i in courses:\n",
    "            if i not in self.courses:\n",
    "                self.courses.append(i)\n",
    "\n",
    "    def check_point(self, point):\n",
    "        dup = False\n",
    "        for default_y in self.marks:\n",
    "            if default_y[\"courses\"] != point:\n",
    "                dup = True\n",
    "        return dup\n",
    "              \n",
    "    def set_marks(self, marks):\n",
    "        \n",
    "        for new_x in marks:\n",
    "            if new_x[\"courses\"] in self.courses:\n",
    "                if (self.check_point(new_x[\"course\"])):\n",
    "                    continue\n",
    "                else:\n",
    "                    self.marks.append(new_x)\n",
    "            \n",
    "\n",
    "    def get_courses(self):\n",
    "        return self.courses\n",
    "    def get_marks(self):\n",
    "        return self.marks "
   ]
  },
  {
   "cell_type": "code",
   "execution_count": 83,
   "id": "290a460f",
   "metadata": {},
   "outputs": [
    {
     "name": "stdout",
     "output_type": "stream",
     "text": [
      "<__main__.Devnationstudents object at 0x000002416EB1A850>\n"
     ]
    }
   ],
   "source": [
    "x = Devnationstudents(\"kashaf\", \"naz\", \"swl\")\n",
    "print(x)"
   ]
  },
  {
   "cell_type": "code",
   "execution_count": 84,
   "id": "d051c206",
   "metadata": {},
   "outputs": [],
   "source": [
    "out_put  = Devnationstudents(\"kashaf\", 4, \"Swl\", ['data science','full stack'], [30, 40 , 20])"
   ]
  },
  {
   "cell_type": "code",
   "execution_count": 85,
   "id": "39539276",
   "metadata": {},
   "outputs": [
    {
     "data": {
      "text/plain": [
       "['data science', 'full stack']"
      ]
     },
     "execution_count": 85,
     "metadata": {},
     "output_type": "execute_result"
    }
   ],
   "source": [
    "out_put.get_courses()"
   ]
  },
  {
   "cell_type": "code",
   "execution_count": null,
   "id": "9206a7e7",
   "metadata": {},
   "outputs": [],
   "source": []
  },
  {
   "cell_type": "code",
   "execution_count": 86,
   "id": "fd3ec8cf",
   "metadata": {},
   "outputs": [],
   "source": [
    "out_put.set_courses([\"Python\", \"R\" ,'full stack'])"
   ]
  },
  {
   "cell_type": "code",
   "execution_count": 88,
   "id": "c6cd9e34",
   "metadata": {},
   "outputs": [
    {
     "data": {
      "text/plain": [
       "['data science', 'full stack', 'Python', 'R']"
      ]
     },
     "execution_count": 88,
     "metadata": {},
     "output_type": "execute_result"
    }
   ],
   "source": [
    "out_put.get_courses()"
   ]
  },
  {
   "cell_type": "code",
   "execution_count": null,
   "id": "ded580a8",
   "metadata": {},
   "outputs": [],
   "source": []
  }
 ],
 "metadata": {
  "kernelspec": {
   "display_name": "Python 3",
   "language": "python",
   "name": "python3"
  },
  "language_info": {
   "codemirror_mode": {
    "name": "ipython",
    "version": 3
   },
   "file_extension": ".py",
   "mimetype": "text/x-python",
   "name": "python",
   "nbconvert_exporter": "python",
   "pygments_lexer": "ipython3",
   "version": "3.8.8"
  }
 },
 "nbformat": 4,
 "nbformat_minor": 5
}
