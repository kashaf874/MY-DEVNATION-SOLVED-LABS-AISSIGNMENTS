{
 "cells": [
  {
   "cell_type": "markdown",
   "id": "e646c2f7",
   "metadata": {},
   "source": [
    "# Create a class Salary with the following getters and setters\n",
    "1. Constructor\n",
    "a. Create an Object with following parameters\n",
    "i. Monthly income\n",
    "ii. Currency\n",
    "iii. Type (Cash or cheque)\n",
    "#Create a new class called Employee which has-a `Salary`\n",
    "a. Write a constructor that takes\n",
    "\n"
   ]
  },
  {
   "cell_type": "code",
   "execution_count": 166,
   "id": "a60bab46",
   "metadata": {},
   "outputs": [],
   "source": [
    "class Salary:\n",
    "    def __init__(self , monthly_income,currency,cash):\n",
    "        self.monthly_income = monthly_income\n",
    "        self.currency = currency\n",
    "        self.cash = cash\n",
    "        \n",
    "    def set_monthly_income(self):\n",
    "        return self.monthly_income \n",
    "    def set_currency(self):\n",
    "        return self.currency\n",
    "    def set_cash(self):\n",
    "        return self.cash\n",
    "\n",
    "    \n",
    "    def get_monthly_income(self):\n",
    "        return self.monthly_income\n",
    "    def get_currency(self):\n",
    "        return self.currency\n",
    "    def get_cash(self):\n",
    "        return self.cash\n",
    "    def get_total(self):\n",
    "        return self.monthly_income * 12\n",
    "    \n",
    "class Employee:\n",
    "    def __init__(self , monthly_income, currency, cash , bonus , salary):\n",
    "        self.bonus = bonus\n",
    "        self.new_obj = Salary(monthly_income, currency, cash)\n",
    "        self.salary = salary\n",
    "\n",
    "#     def set_bonus(self):\n",
    "#         return self.bonus\n",
    "        \n",
    "    def set_total_salary(self):\n",
    "        self.salary = self.new_obj.get_total()+self.bonus\n",
    "        \n",
    "    \n",
    "    def get_total_salary(self):\n",
    "        kashaf = [\"The annual salary for this employee is following :\",self.new_obj.get_currency(), self.salary , self.new_obj.get_cash(), self.bonus]\n",
    "        return kashaf\n",
    "    \n",
    "        "
   ]
  },
  {
   "cell_type": "code",
   "execution_count": 167,
   "id": "613132d3",
   "metadata": {},
   "outputs": [],
   "source": [
    "employee_ali = Employee(1000.0, \"$\", \"cash\" , 5000, 0)"
   ]
  },
  {
   "cell_type": "code",
   "execution_count": 168,
   "id": "afcff37b",
   "metadata": {
    "scrolled": true
   },
   "outputs": [],
   "source": [
    "employee_ali.set_total_salary()"
   ]
  },
  {
   "cell_type": "code",
   "execution_count": 169,
   "id": "1db1297c",
   "metadata": {},
   "outputs": [
    {
     "data": {
      "text/plain": [
       "['The annual salary for this employee is following :',\n",
       " '$',\n",
       " 17000.0,\n",
       " 'cash',\n",
       " 5000]"
      ]
     },
     "execution_count": 169,
     "metadata": {},
     "output_type": "execute_result"
    }
   ],
   "source": [
    "employee_ali.get_total_salary()"
   ]
  },
  {
   "cell_type": "code",
   "execution_count": 192,
   "id": "afeb7853",
   "metadata": {},
   "outputs": [],
   "source": [
    "class Salary:\n",
    "    def __init__(self , monthly_income,currency,cash):\n",
    "        self.monthly_income = monthly_income\n",
    "        self.currency = currency\n",
    "        self.cash = cash\n",
    "        \n",
    "    def set_monthly_income(self):\n",
    "        return self.monthly_income \n",
    "    def set_currency(self):\n",
    "        return self.currency\n",
    "    def set_cash(self):\n",
    "        return self.cash\n",
    "\n",
    "    \n",
    "    def get_monthly_income(self):\n",
    "        return self.monthly_income\n",
    "    def get_currency(self):\n",
    "        return self.currency\n",
    "    def get_cash(self):\n",
    "        return self.cash\n",
    "    def get_total(self):\n",
    "        return self.monthly_income * 12\n",
    "    \n",
    "class Employee:\n",
    "    def __init__(self , monthly_income, currency, cash , bonus , salary):\n",
    "        self.bonus = bonus\n",
    "        self.new_obj = Salary(monthly_income, currency, cash)\n",
    "        self.salary = salary\n",
    "\n",
    "#     def set_bonus(self):\n",
    "#         return self.bonus\n",
    "        \n",
    "    def set_total_salary(self):\n",
    "        self.salary = self.new_obj.get_total()+self.bonus\n",
    "        \n",
    "    \n",
    "    def get_total_salary(self):\n",
    "        kashaf = [\"The annual salary for this employee is following :\",self.new_obj.get_currency(), self.salary , self.new_obj.get_cash(), self.bonus]\n",
    "        return kashaf\n",
    "    \n",
    "        "
   ]
  },
  {
   "cell_type": "code",
   "execution_count": 193,
   "id": "dc4f79a1",
   "metadata": {},
   "outputs": [
    {
     "ename": "TypeError",
     "evalue": "__init__() missing 1 required positional argument: 'salary'",
     "output_type": "error",
     "traceback": [
      "\u001b[1;31m---------------------------------------------------------------------------\u001b[0m",
      "\u001b[1;31mTypeError\u001b[0m                                 Traceback (most recent call last)",
      "\u001b[1;32m<ipython-input-193-b50536f0fc9a>\u001b[0m in \u001b[0;36m<module>\u001b[1;34m\u001b[0m\n\u001b[1;32m----> 1\u001b[1;33m \u001b[0memployee_ali\u001b[0m \u001b[1;33m=\u001b[0m \u001b[0mEmployee\u001b[0m\u001b[1;33m(\u001b[0m\u001b[1;36m1000.0\u001b[0m\u001b[1;33m,\u001b[0m \u001b[1;34m\"$\"\u001b[0m\u001b[1;33m,\u001b[0m \u001b[1;34m\"cash\"\u001b[0m \u001b[1;33m,\u001b[0m \u001b[1;36m5000\u001b[0m\u001b[1;33m)\u001b[0m\u001b[1;33m\u001b[0m\u001b[1;33m\u001b[0m\u001b[0m\n\u001b[0m",
      "\u001b[1;31mTypeError\u001b[0m: __init__() missing 1 required positional argument: 'salary'"
     ]
    }
   ],
   "source": [
    "employee_ali = Employee(1000.0, \"$\", \"cash\" , 5000)"
   ]
  },
  {
   "cell_type": "code",
   "execution_count": 196,
   "id": "b8d67d24",
   "metadata": {},
   "outputs": [
    {
     "ename": "TypeError",
     "evalue": "unsupported operand type(s) for +: 'method' and 'int'",
     "output_type": "error",
     "traceback": [
      "\u001b[1;31m---------------------------------------------------------------------------\u001b[0m",
      "\u001b[1;31mTypeError\u001b[0m                                 Traceback (most recent call last)",
      "\u001b[1;32m<ipython-input-196-2ec7373e9f84>\u001b[0m in \u001b[0;36m<module>\u001b[1;34m\u001b[0m\n\u001b[1;32m----> 1\u001b[1;33m \u001b[0memployee_ali\u001b[0m\u001b[1;33m.\u001b[0m\u001b[0mset_total_salary\u001b[0m\u001b[1;33m(\u001b[0m\u001b[1;33m)\u001b[0m\u001b[1;33m\u001b[0m\u001b[1;33m\u001b[0m\u001b[0m\n\u001b[0m",
      "\u001b[1;32m<ipython-input-180-ff63e7d61d5c>\u001b[0m in \u001b[0;36mset_total_salary\u001b[1;34m(self)\u001b[0m\n\u001b[0;32m     32\u001b[0m \u001b[1;33m\u001b[0m\u001b[0m\n\u001b[0;32m     33\u001b[0m     \u001b[1;32mdef\u001b[0m \u001b[0mset_total_salary\u001b[0m\u001b[1;33m(\u001b[0m\u001b[0mself\u001b[0m\u001b[1;33m)\u001b[0m\u001b[1;33m:\u001b[0m\u001b[1;33m\u001b[0m\u001b[1;33m\u001b[0m\u001b[0m\n\u001b[1;32m---> 34\u001b[1;33m         \u001b[0mself\u001b[0m\u001b[1;33m.\u001b[0m\u001b[0msalary\u001b[0m \u001b[1;33m=\u001b[0m \u001b[0mself\u001b[0m\u001b[1;33m.\u001b[0m\u001b[0mnew_obj\u001b[0m\u001b[1;33m.\u001b[0m\u001b[0mget_total\u001b[0m\u001b[1;33m+\u001b[0m\u001b[0mself\u001b[0m\u001b[1;33m.\u001b[0m\u001b[0mbonus\u001b[0m\u001b[1;33m\u001b[0m\u001b[1;33m\u001b[0m\u001b[0m\n\u001b[0m\u001b[0;32m     35\u001b[0m \u001b[1;33m\u001b[0m\u001b[0m\n\u001b[0;32m     36\u001b[0m \u001b[1;33m\u001b[0m\u001b[0m\n",
      "\u001b[1;31mTypeError\u001b[0m: unsupported operand type(s) for +: 'method' and 'int'"
     ]
    }
   ],
   "source": [
    "employee_ali.set_total_salary()"
   ]
  },
  {
   "cell_type": "code",
   "execution_count": 195,
   "id": "d2d53c4b",
   "metadata": {},
   "outputs": [
    {
     "data": {
      "text/plain": [
       "['The annual salary for this employee is following :', '$', 0, 'cash', 5000]"
      ]
     },
     "execution_count": 195,
     "metadata": {},
     "output_type": "execute_result"
    }
   ],
   "source": [
    "employee_ali.get_total_salary()"
   ]
  },
  {
   "cell_type": "code",
   "execution_count": null,
   "id": "db790896",
   "metadata": {},
   "outputs": [],
   "source": []
  }
 ],
 "metadata": {
  "kernelspec": {
   "display_name": "Python 3",
   "language": "python",
   "name": "python3"
  },
  "language_info": {
   "codemirror_mode": {
    "name": "ipython",
    "version": 3
   },
   "file_extension": ".py",
   "mimetype": "text/x-python",
   "name": "python",
   "nbconvert_exporter": "python",
   "pygments_lexer": "ipython3",
   "version": "3.8.8"
  }
 },
 "nbformat": 4,
 "nbformat_minor": 5
}
