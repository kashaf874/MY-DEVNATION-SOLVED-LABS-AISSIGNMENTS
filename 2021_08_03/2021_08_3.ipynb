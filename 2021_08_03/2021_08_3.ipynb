{
 "cells": [
  {
   "cell_type": "markdown",
   "id": "ee5045eb",
   "metadata": {},
   "source": [
    "# topic DoublyLinkedList\n",
    "\n",
    "a class singly DoublyLinkedList\n",
    "1. Contains\n",
    "a. Data\n",
    "b. Next\n",
    "c. Prev\n",
    "2. Functions\n",
    "a. Add_in_begginning\n",
    "i. Receives New data\n",
    "ii. Add new Node in the start of the linked list\n",
    "b. Add_at_particular_position (Most Important)\n",
    "i. Add new data\n",
    "ii. Add Position value\n",
    "1. I.e if position value is 2 it means that add new node after 3rd\n",
    "node considering first node starts from 0th position\n",
    "\n",
    "c. Add_at_the_end\n",
    "i. Receives new data\n",
    "ii. Add new Node at the end of the linked list\n",
    "d. Print Entire LinkedList\n"
   ]
  },
  {
   "cell_type": "code",
   "execution_count": 3,
   "id": "49f9c9d9",
   "metadata": {},
   "outputs": [],
   "source": [
    "class Node:\n",
    "    def __init__(self, data):\n",
    "        self.data = data \n",
    "        self.next = None\n",
    "        self.pre  = None  "
   ]
  },
  {
   "cell_type": "code",
   "execution_count": 4,
   "id": "300aa4ce",
   "metadata": {},
   "outputs": [],
   "source": [
    "class DoublyLinkedList:\n",
    "    def __init__(self):\n",
    "        self.head = None\n",
    "        \n",
    "    def Add_in_begginning(self, my_new_data):\n",
    "        New_Node = Node(my_new_data)\n",
    "        New_Node.next = self.next\n",
    "        New_Node.pre  = None     \n",
    "      \n",
    "    def Add_at_particular_position(self, my_new_data , position):\n",
    "        New_Node = Node(my_new_data)\n",
    "        if self.head = None:\n",
    "            self.Add_in_begginning(my_new_data)\n",
    "        else:\n",
    "            blue_node = self.head\n",
    "            \n",
    "            data_count = 1\n",
    "            while(blue_node):\n",
    "                if position == data_count:\n",
    "                    white_node = blude_node.next\n",
    "                    white_node.next = New_Node\n",
    "                    \n",
    "                    #white_node.next = New_Node.pre\n",
    "                    New_Node.pre = white_node\n",
    "                    New_Node.next = blue_node\n",
    "                    blue_node.next = white_node.\n",
    "                    \n",
    "            data_count += 1\n",
    "            blue_node = blue.next\n",
    "            \n",
    "                    \n",
    "        \n",
    "        def add_at_the_end(self, my_new_data):\n",
    "        New_Node = Node(my_new_data)\n",
    "        if self.head == None:\n",
    "            self.add_at_the_end(my_new_data)\n",
    "        else:\n",
    "            black_node = self.head\n",
    "            while(black_node.next != None):\n",
    "                black_node = New_Node.pre\n",
    "            \n",
    "            black_node.pre = New_Node\n",
    "        \n",
    "        def Print(self):\n",
    "            blue_node = self.head\n",
    "            while(blue_node):\n",
    "                print(blue_node.data)\n",
    "                blue_node = blue_node.next\n",
    "            "
   ]
  },
  {
   "cell_type": "code",
   "execution_count": null,
   "id": "f2631af8",
   "metadata": {},
   "outputs": [],
   "source": []
  }
 ],
 "metadata": {
  "kernelspec": {
   "display_name": "Python 3",
   "language": "python",
   "name": "python3"
  },
  "language_info": {
   "codemirror_mode": {
    "name": "ipython",
    "version": 3
   },
   "file_extension": ".py",
   "mimetype": "text/x-python",
   "name": "python",
   "nbconvert_exporter": "python",
   "pygments_lexer": "ipython3",
   "version": "3.8.8"
  }
 },
 "nbformat": 4,
 "nbformat_minor": 5
}
