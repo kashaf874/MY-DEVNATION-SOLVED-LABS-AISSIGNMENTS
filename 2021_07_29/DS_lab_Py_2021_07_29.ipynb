{
 "cells": [
  {
   "cell_type": "markdown",
   "id": "3d8115b6",
   "metadata": {},
   "source": [
    "# Create a class singly LinkedList\n",
    "1. Contains\n",
    "a. Data\n",
    "b. Next\n",
    "2. function \n",
    "a. Add_in_beggining\n",
    "    recieves_new_data\n",
    "   new node\n",
    "b. Add_at_particular_position\n",
    "   new_data\n",
    "   add_position_value\n",
    "       \n",
    "   "
   ]
  },
  {
   "cell_type": "code",
   "execution_count": 52,
   "id": "ab7bae1f",
   "metadata": {},
   "outputs": [],
   "source": [
    "class Node:\n",
    "    def __init__(self, data):\n",
    "        self.data = data\n",
    "        self.next_node = None\n",
    "    \n",
    "class Linkedlist:\n",
    "    def __init__(self):\n",
    "        self.head = None\n",
    "    \n",
    "    \n",
    "    def add_in_beggining(self , new_node):\n",
    "        new_node = Node(new_node)\n",
    "        new_node.next = self.head\n",
    "        self.head = new_node\n",
    "        \n",
    "        \n",
    "    def add_at_particular_position(self , pre_node ,new_node):\n",
    "        if pre_node is None:\n",
    "            return \"empty\"\n",
    "        \n",
    "        \n",
    "        new_node = Node(new_node)\n",
    "        new_node.next_node = pre_node.next_node\n",
    "        pre_node.next_node = new_node\n",
    "\n",
    "        \n",
    "        \n",
    "        \n",
    "        \n",
    "    def add_at_end(self , new_data):\n",
    "        NewNode = Node(newdata)\n",
    "        \n",
    "        \n",
    "        \n",
    "        \n",
    "    def print_linkedlist(self):\n",
    "        dev = self.head\n",
    "        while (dev):\n",
    "            print(dev.data)\n",
    "            dev = dev.next"
   ]
  },
  {
   "cell_type": "code",
   "execution_count": 53,
   "id": "0dcb5db1",
   "metadata": {},
   "outputs": [],
   "source": [
    "lam = Linkedlist()"
   ]
  },
  {
   "cell_type": "code",
   "execution_count": 54,
   "id": "e865932d",
   "metadata": {},
   "outputs": [],
   "source": [
    "lam.add_in_beggining(0)\n",
    "lam.add_in_beggining(1)\n",
    "lam.add_in_beggining(2)\n",
    "lam.add_in_beggining(3)\n",
    "lam.add_in_beggining(4)"
   ]
  },
  {
   "cell_type": "code",
   "execution_count": 55,
   "id": "3dcb8a7c",
   "metadata": {},
   "outputs": [
    {
     "name": "stdout",
     "output_type": "stream",
     "text": [
      "4\n",
      "3\n",
      "2\n",
      "1\n",
      "0\n"
     ]
    }
   ],
   "source": []
  },
  {
   "cell_type": "code",
   "execution_count": 56,
   "id": "243c8b16",
   "metadata": {},
   "outputs": [
    {
     "ename": "AttributeError",
     "evalue": "'int' object has no attribute 'next_node'",
     "output_type": "error",
     "traceback": [
      "\u001b[1;31m---------------------------------------------------------------------------\u001b[0m",
      "\u001b[1;31mAttributeError\u001b[0m                            Traceback (most recent call last)",
      "\u001b[1;32m<ipython-input-56-c4d5f6bb75a0>\u001b[0m in \u001b[0;36m<module>\u001b[1;34m\u001b[0m\n\u001b[1;32m----> 1\u001b[1;33m \u001b[0mlam\u001b[0m\u001b[1;33m.\u001b[0m\u001b[0madd_at_particular_position\u001b[0m\u001b[1;33m(\u001b[0m\u001b[1;36m2\u001b[0m\u001b[1;33m,\u001b[0m\u001b[1;36m7\u001b[0m\u001b[1;33m)\u001b[0m\u001b[1;33m\u001b[0m\u001b[1;33m\u001b[0m\u001b[0m\n\u001b[0m",
      "\u001b[1;32m<ipython-input-52-909e5b243e1c>\u001b[0m in \u001b[0;36madd_at_particular_position\u001b[1;34m(self, pre_node, new_node)\u001b[0m\n\u001b[0;32m     21\u001b[0m \u001b[1;33m\u001b[0m\u001b[0m\n\u001b[0;32m     22\u001b[0m         \u001b[0mnew_node\u001b[0m \u001b[1;33m=\u001b[0m \u001b[0mNode\u001b[0m\u001b[1;33m(\u001b[0m\u001b[0mnew_node\u001b[0m\u001b[1;33m)\u001b[0m\u001b[1;33m\u001b[0m\u001b[1;33m\u001b[0m\u001b[0m\n\u001b[1;32m---> 23\u001b[1;33m         \u001b[0mnew_node\u001b[0m\u001b[1;33m.\u001b[0m\u001b[0mnext_node\u001b[0m \u001b[1;33m=\u001b[0m \u001b[0mpre_node\u001b[0m\u001b[1;33m.\u001b[0m\u001b[0mnext_node\u001b[0m\u001b[1;33m\u001b[0m\u001b[1;33m\u001b[0m\u001b[0m\n\u001b[0m\u001b[0;32m     24\u001b[0m         \u001b[0mpre_node\u001b[0m\u001b[1;33m.\u001b[0m\u001b[0mnext_node\u001b[0m \u001b[1;33m=\u001b[0m \u001b[0mnew_node\u001b[0m\u001b[1;33m\u001b[0m\u001b[1;33m\u001b[0m\u001b[0m\n\u001b[0;32m     25\u001b[0m \u001b[1;33m\u001b[0m\u001b[0m\n",
      "\u001b[1;31mAttributeError\u001b[0m: 'int' object has no attribute 'next_node'"
     ]
    }
   ],
   "source": [
    "lam.add_at_particular_position(2,7)"
   ]
  },
  {
   "cell_type": "code",
   "execution_count": 57,
   "id": "d006c58e",
   "metadata": {},
   "outputs": [
    {
     "name": "stdout",
     "output_type": "stream",
     "text": [
      "4\n",
      "3\n",
      "2\n",
      "1\n",
      "0\n"
     ]
    }
   ],
   "source": [
    "lam.print_linkedlist()"
   ]
  },
  {
   "cell_type": "code",
   "execution_count": null,
   "id": "c42de716",
   "metadata": {},
   "outputs": [],
   "source": []
  }
 ],
 "metadata": {
  "kernelspec": {
   "display_name": "Python 3",
   "language": "python",
   "name": "python3"
  },
  "language_info": {
   "codemirror_mode": {
    "name": "ipython",
    "version": 3
   },
   "file_extension": ".py",
   "mimetype": "text/x-python",
   "name": "python",
   "nbconvert_exporter": "python",
   "pygments_lexer": "ipython3",
   "version": "3.8.8"
  }
 },
 "nbformat": 4,
 "nbformat_minor": 5
}
